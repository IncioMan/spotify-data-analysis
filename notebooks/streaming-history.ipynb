{
 "cells": [
  {
   "cell_type": "markdown",
   "metadata": {},
   "source": [
    "### Streaming History (audio, video, and podcasts)\n",
    "\n",
    "A list of items (e.g. songs, videos, and podcasts) listened to or watched in the past year, including:\n",
    "\n",
    "* Date and time of when the stream ended in UTC format (Coordinated Universal Time zone).\n",
    "* Name of \"creator\" for each stream (e.g. the artist name if a music track).\n",
    "* Name of items listened to or watched (e.g. title of music track or name of video). \n",
    "* “msPlayed”- Stands for how many mili-seconds the track was listened. "
   ]
  },
  {
   "cell_type": "code",
   "execution_count": 2,
   "metadata": {},
   "outputs": [],
   "source": [
    "import pandas as pd"
   ]
  },
  {
   "cell_type": "code",
   "execution_count": 3,
   "metadata": {},
   "outputs": [],
   "source": [
    "import matplotlib.pyplot as plt\n",
    "%matplotlib inline\n",
    "plt.rcParams[\"figure.figsize\"] = [15, 5]"
   ]
  },
  {
   "cell_type": "markdown",
   "metadata": {},
   "source": [
    "**Load data**"
   ]
  },
  {
   "cell_type": "code",
   "execution_count": 5,
   "metadata": {},
   "outputs": [],
   "source": [
    "data = pd.read_json(\"../data/StreamingHistory0.json\",\n",
    "                   convert_dates=['endTime'])"
   ]
  },
  {
   "cell_type": "code",
   "execution_count": 6,
   "metadata": {},
   "outputs": [
    {
     "data": {
      "text/html": [
       "<div>\n",
       "<style scoped>\n",
       "    .dataframe tbody tr th:only-of-type {\n",
       "        vertical-align: middle;\n",
       "    }\n",
       "\n",
       "    .dataframe tbody tr th {\n",
       "        vertical-align: top;\n",
       "    }\n",
       "\n",
       "    .dataframe thead th {\n",
       "        text-align: right;\n",
       "    }\n",
       "</style>\n",
       "<table border=\"1\" class=\"dataframe\">\n",
       "  <thead>\n",
       "    <tr style=\"text-align: right;\">\n",
       "      <th></th>\n",
       "      <th>endTime</th>\n",
       "      <th>artistName</th>\n",
       "      <th>trackName</th>\n",
       "      <th>msPlayed</th>\n",
       "    </tr>\n",
       "  </thead>\n",
       "  <tbody>\n",
       "    <tr>\n",
       "      <th>0</th>\n",
       "      <td>2020-04-18 20:54:00</td>\n",
       "      <td>Billie Eilish</td>\n",
       "      <td>all the good girls go to hell</td>\n",
       "      <td>94923</td>\n",
       "    </tr>\n",
       "    <tr>\n",
       "      <th>1</th>\n",
       "      <td>2020-04-19 16:49:00</td>\n",
       "      <td>Klaus Badelt</td>\n",
       "      <td>Eloi</td>\n",
       "      <td>0</td>\n",
       "    </tr>\n",
       "    <tr>\n",
       "      <th>2</th>\n",
       "      <td>2020-04-19 16:49:00</td>\n",
       "      <td>Klaus Badelt</td>\n",
       "      <td>Eloi</td>\n",
       "      <td>3620</td>\n",
       "    </tr>\n",
       "    <tr>\n",
       "      <th>3</th>\n",
       "      <td>2020-04-19 16:49:00</td>\n",
       "      <td>Hans Zimmer</td>\n",
       "      <td>Run Free</td>\n",
       "      <td>142333</td>\n",
       "    </tr>\n",
       "    <tr>\n",
       "      <th>4</th>\n",
       "      <td>2020-04-19 16:49:00</td>\n",
       "      <td>London Music Works</td>\n",
       "      <td>No Time for Caution (From \"Interstellar\")</td>\n",
       "      <td>295</td>\n",
       "    </tr>\n",
       "  </tbody>\n",
       "</table>\n",
       "</div>"
      ],
      "text/plain": [
       "              endTime          artistName  \\\n",
       "0 2020-04-18 20:54:00       Billie Eilish   \n",
       "1 2020-04-19 16:49:00        Klaus Badelt   \n",
       "2 2020-04-19 16:49:00        Klaus Badelt   \n",
       "3 2020-04-19 16:49:00         Hans Zimmer   \n",
       "4 2020-04-19 16:49:00  London Music Works   \n",
       "\n",
       "                                   trackName  msPlayed  \n",
       "0              all the good girls go to hell     94923  \n",
       "1                                       Eloi         0  \n",
       "2                                       Eloi      3620  \n",
       "3                                   Run Free    142333  \n",
       "4  No Time for Caution (From \"Interstellar\")       295  "
      ]
     },
     "execution_count": 6,
     "metadata": {},
     "output_type": "execute_result"
    }
   ],
   "source": [
    "data.head()"
   ]
  },
  {
   "cell_type": "code",
   "execution_count": 7,
   "metadata": {},
   "outputs": [
    {
     "name": "stderr",
     "output_type": "stream",
     "text": [
      "<ipython-input-7-589a52936347>:1: FutureWarning: Treating datetime data as categorical rather than numeric in `.describe` is deprecated and will be removed in a future version of pandas. Specify `datetime_is_numeric=True` to silence this warning and adopt the future behavior now.\n",
      "  data.describe(include='all')\n"
     ]
    },
    {
     "data": {
      "text/html": [
       "<div>\n",
       "<style scoped>\n",
       "    .dataframe tbody tr th:only-of-type {\n",
       "        vertical-align: middle;\n",
       "    }\n",
       "\n",
       "    .dataframe tbody tr th {\n",
       "        vertical-align: top;\n",
       "    }\n",
       "\n",
       "    .dataframe thead th {\n",
       "        text-align: right;\n",
       "    }\n",
       "</style>\n",
       "<table border=\"1\" class=\"dataframe\">\n",
       "  <thead>\n",
       "    <tr style=\"text-align: right;\">\n",
       "      <th></th>\n",
       "      <th>endTime</th>\n",
       "      <th>artistName</th>\n",
       "      <th>trackName</th>\n",
       "      <th>msPlayed</th>\n",
       "    </tr>\n",
       "  </thead>\n",
       "  <tbody>\n",
       "    <tr>\n",
       "      <th>count</th>\n",
       "      <td>6493</td>\n",
       "      <td>6493</td>\n",
       "      <td>6493</td>\n",
       "      <td>6.493000e+03</td>\n",
       "    </tr>\n",
       "    <tr>\n",
       "      <th>unique</th>\n",
       "      <td>4653</td>\n",
       "      <td>984</td>\n",
       "      <td>2010</td>\n",
       "      <td>NaN</td>\n",
       "    </tr>\n",
       "    <tr>\n",
       "      <th>top</th>\n",
       "      <td>2020-05-11 17:21:00</td>\n",
       "      <td>Arctic Monkeys</td>\n",
       "      <td>This Land - From \"The Lion King\"/Score</td>\n",
       "      <td>NaN</td>\n",
       "    </tr>\n",
       "    <tr>\n",
       "      <th>freq</th>\n",
       "      <td>39</td>\n",
       "      <td>585</td>\n",
       "      <td>75</td>\n",
       "      <td>NaN</td>\n",
       "    </tr>\n",
       "    <tr>\n",
       "      <th>first</th>\n",
       "      <td>2020-04-18 20:54:00</td>\n",
       "      <td>NaN</td>\n",
       "      <td>NaN</td>\n",
       "      <td>NaN</td>\n",
       "    </tr>\n",
       "    <tr>\n",
       "      <th>last</th>\n",
       "      <td>2021-04-17 11:38:00</td>\n",
       "      <td>NaN</td>\n",
       "      <td>NaN</td>\n",
       "      <td>NaN</td>\n",
       "    </tr>\n",
       "    <tr>\n",
       "      <th>mean</th>\n",
       "      <td>NaN</td>\n",
       "      <td>NaN</td>\n",
       "      <td>NaN</td>\n",
       "      <td>1.426641e+05</td>\n",
       "    </tr>\n",
       "    <tr>\n",
       "      <th>std</th>\n",
       "      <td>NaN</td>\n",
       "      <td>NaN</td>\n",
       "      <td>NaN</td>\n",
       "      <td>1.969985e+05</td>\n",
       "    </tr>\n",
       "    <tr>\n",
       "      <th>min</th>\n",
       "      <td>NaN</td>\n",
       "      <td>NaN</td>\n",
       "      <td>NaN</td>\n",
       "      <td>0.000000e+00</td>\n",
       "    </tr>\n",
       "    <tr>\n",
       "      <th>25%</th>\n",
       "      <td>NaN</td>\n",
       "      <td>NaN</td>\n",
       "      <td>NaN</td>\n",
       "      <td>5.610000e+03</td>\n",
       "    </tr>\n",
       "    <tr>\n",
       "      <th>50%</th>\n",
       "      <td>NaN</td>\n",
       "      <td>NaN</td>\n",
       "      <td>NaN</td>\n",
       "      <td>1.585710e+05</td>\n",
       "    </tr>\n",
       "    <tr>\n",
       "      <th>75%</th>\n",
       "      <td>NaN</td>\n",
       "      <td>NaN</td>\n",
       "      <td>NaN</td>\n",
       "      <td>2.100000e+05</td>\n",
       "    </tr>\n",
       "    <tr>\n",
       "      <th>max</th>\n",
       "      <td>NaN</td>\n",
       "      <td>NaN</td>\n",
       "      <td>NaN</td>\n",
       "      <td>5.802080e+06</td>\n",
       "    </tr>\n",
       "  </tbody>\n",
       "</table>\n",
       "</div>"
      ],
      "text/plain": [
       "                    endTime      artistName  \\\n",
       "count                  6493            6493   \n",
       "unique                 4653             984   \n",
       "top     2020-05-11 17:21:00  Arctic Monkeys   \n",
       "freq                     39             585   \n",
       "first   2020-04-18 20:54:00             NaN   \n",
       "last    2021-04-17 11:38:00             NaN   \n",
       "mean                    NaN             NaN   \n",
       "std                     NaN             NaN   \n",
       "min                     NaN             NaN   \n",
       "25%                     NaN             NaN   \n",
       "50%                     NaN             NaN   \n",
       "75%                     NaN             NaN   \n",
       "max                     NaN             NaN   \n",
       "\n",
       "                                     trackName      msPlayed  \n",
       "count                                     6493  6.493000e+03  \n",
       "unique                                    2010           NaN  \n",
       "top     This Land - From \"The Lion King\"/Score           NaN  \n",
       "freq                                        75           NaN  \n",
       "first                                      NaN           NaN  \n",
       "last                                       NaN           NaN  \n",
       "mean                                       NaN  1.426641e+05  \n",
       "std                                        NaN  1.969985e+05  \n",
       "min                                        NaN  0.000000e+00  \n",
       "25%                                        NaN  5.610000e+03  \n",
       "50%                                        NaN  1.585710e+05  \n",
       "75%                                        NaN  2.100000e+05  \n",
       "max                                        NaN  5.802080e+06  "
      ]
     },
     "execution_count": 7,
     "metadata": {},
     "output_type": "execute_result"
    }
   ],
   "source": [
    "data.describe(include='all')"
   ]
  },
  {
   "cell_type": "markdown",
   "metadata": {},
   "source": [
    "**Missing values**"
   ]
  },
  {
   "cell_type": "code",
   "execution_count": 8,
   "metadata": {},
   "outputs": [
    {
     "data": {
      "text/plain": [
       "endTime       0\n",
       "artistName    0\n",
       "trackName     0\n",
       "msPlayed      0\n",
       "dtype: int64"
      ]
     },
     "execution_count": 8,
     "metadata": {},
     "output_type": "execute_result"
    }
   ],
   "source": [
    "data.isna().sum()"
   ]
  },
  {
   "cell_type": "markdown",
   "metadata": {},
   "source": [
    "**Add time columns**"
   ]
  },
  {
   "cell_type": "code",
   "execution_count": 48,
   "metadata": {},
   "outputs": [],
   "source": [
    "data['year'] = data.endTime.dt.year\n",
    "data['year_month'] = data.endTime.dt.to_period('M')\n",
    "data['month'] = data.endTime.dt.month\n",
    "data['year_month_day'] = data.endTime.dt.to_period('D')\n",
    "data['hour'] = data.endTime.dt.hour"
   ]
  },
  {
   "cell_type": "code",
   "execution_count": 49,
   "metadata": {},
   "outputs": [
    {
     "data": {
      "text/html": [
       "<div>\n",
       "<style scoped>\n",
       "    .dataframe tbody tr th:only-of-type {\n",
       "        vertical-align: middle;\n",
       "    }\n",
       "\n",
       "    .dataframe tbody tr th {\n",
       "        vertical-align: top;\n",
       "    }\n",
       "\n",
       "    .dataframe thead th {\n",
       "        text-align: right;\n",
       "    }\n",
       "</style>\n",
       "<table border=\"1\" class=\"dataframe\">\n",
       "  <thead>\n",
       "    <tr style=\"text-align: right;\">\n",
       "      <th></th>\n",
       "      <th>endTime</th>\n",
       "      <th>artistName</th>\n",
       "      <th>trackName</th>\n",
       "      <th>msPlayed</th>\n",
       "      <th>year</th>\n",
       "      <th>year_month</th>\n",
       "      <th>hour</th>\n",
       "      <th>year_month_day</th>\n",
       "      <th>month</th>\n",
       "    </tr>\n",
       "  </thead>\n",
       "  <tbody>\n",
       "    <tr>\n",
       "      <th>0</th>\n",
       "      <td>2020-04-18 20:54:00</td>\n",
       "      <td>Billie Eilish</td>\n",
       "      <td>all the good girls go to hell</td>\n",
       "      <td>94923</td>\n",
       "      <td>2020</td>\n",
       "      <td>2020-04</td>\n",
       "      <td>20</td>\n",
       "      <td>2020-04-18</td>\n",
       "      <td>4</td>\n",
       "    </tr>\n",
       "    <tr>\n",
       "      <th>1</th>\n",
       "      <td>2020-04-19 16:49:00</td>\n",
       "      <td>Klaus Badelt</td>\n",
       "      <td>Eloi</td>\n",
       "      <td>0</td>\n",
       "      <td>2020</td>\n",
       "      <td>2020-04</td>\n",
       "      <td>16</td>\n",
       "      <td>2020-04-19</td>\n",
       "      <td>4</td>\n",
       "    </tr>\n",
       "    <tr>\n",
       "      <th>2</th>\n",
       "      <td>2020-04-19 16:49:00</td>\n",
       "      <td>Klaus Badelt</td>\n",
       "      <td>Eloi</td>\n",
       "      <td>3620</td>\n",
       "      <td>2020</td>\n",
       "      <td>2020-04</td>\n",
       "      <td>16</td>\n",
       "      <td>2020-04-19</td>\n",
       "      <td>4</td>\n",
       "    </tr>\n",
       "    <tr>\n",
       "      <th>3</th>\n",
       "      <td>2020-04-19 16:49:00</td>\n",
       "      <td>Hans Zimmer</td>\n",
       "      <td>Run Free</td>\n",
       "      <td>142333</td>\n",
       "      <td>2020</td>\n",
       "      <td>2020-04</td>\n",
       "      <td>16</td>\n",
       "      <td>2020-04-19</td>\n",
       "      <td>4</td>\n",
       "    </tr>\n",
       "    <tr>\n",
       "      <th>4</th>\n",
       "      <td>2020-04-19 16:49:00</td>\n",
       "      <td>London Music Works</td>\n",
       "      <td>No Time for Caution (From \"Interstellar\")</td>\n",
       "      <td>295</td>\n",
       "      <td>2020</td>\n",
       "      <td>2020-04</td>\n",
       "      <td>16</td>\n",
       "      <td>2020-04-19</td>\n",
       "      <td>4</td>\n",
       "    </tr>\n",
       "  </tbody>\n",
       "</table>\n",
       "</div>"
      ],
      "text/plain": [
       "              endTime          artistName  \\\n",
       "0 2020-04-18 20:54:00       Billie Eilish   \n",
       "1 2020-04-19 16:49:00        Klaus Badelt   \n",
       "2 2020-04-19 16:49:00        Klaus Badelt   \n",
       "3 2020-04-19 16:49:00         Hans Zimmer   \n",
       "4 2020-04-19 16:49:00  London Music Works   \n",
       "\n",
       "                                   trackName  msPlayed  year year_month  hour  \\\n",
       "0              all the good girls go to hell     94923  2020    2020-04    20   \n",
       "1                                       Eloi         0  2020    2020-04    16   \n",
       "2                                       Eloi      3620  2020    2020-04    16   \n",
       "3                                   Run Free    142333  2020    2020-04    16   \n",
       "4  No Time for Caution (From \"Interstellar\")       295  2020    2020-04    16   \n",
       "\n",
       "  year_month_day  month  \n",
       "0     2020-04-18      4  \n",
       "1     2020-04-19      4  \n",
       "2     2020-04-19      4  \n",
       "3     2020-04-19      4  \n",
       "4     2020-04-19      4  "
      ]
     },
     "execution_count": 49,
     "metadata": {},
     "output_type": "execute_result"
    }
   ],
   "source": [
    "data.head()"
   ]
  },
  {
   "cell_type": "markdown",
   "metadata": {},
   "source": [
    "### General distributions"
   ]
  },
  {
   "cell_type": "markdown",
   "metadata": {},
   "source": [
    "**Most popular artists**"
   ]
  },
  {
   "cell_type": "code",
   "execution_count": 11,
   "metadata": {},
   "outputs": [
    {
     "data": {
      "text/plain": [
       "<AxesSubplot:>"
      ]
     },
     "execution_count": 11,
     "metadata": {},
     "output_type": "execute_result"
    },
    {
     "data": {
      "image/png": "[encoded data removed]",
      "text/plain": [
       "<Figure size 1080x360 with 1 Axes>"
      ]
     },
     "metadata": {
      "needs_background": "light"
     },
     "output_type": "display_data"
    }
   ],
   "source": [
    "top_artists= data.artistName.value_counts().sort_values(ascending=False).head(10)\n",
    "top_artists.plot(kind='bar')"
   ]
  },
  {
   "cell_type": "markdown",
   "metadata": {},
   "source": [
    "Arctic monkeys and Fulminacci are the most popular over the last year. But what do their distribution over time look like? Is it stable or does it have peaks?"
   ]
  },
  {
   "cell_type": "code",
   "execution_count": 12,
   "metadata": {},
   "outputs": [],
   "source": [
    "df = data[data.artistName.isin(top_artists.index)] \\\n",
    "        .groupby(['year_month', 'artistName']).count().msPlayed.reset_index()"
   ]
  },
  {
   "cell_type": "code",
   "execution_count": 13,
   "metadata": {},
   "outputs": [
    {
     "data": {
      "text/plain": [
       "<AxesSubplot:xlabel='year_month'>"
      ]
     },
     "execution_count": 13,
     "metadata": {},
     "output_type": "execute_result"
    },
    {
     "data": {
      "image/png": "[encoded data removed]",
      "text/plain": [
       "<Figure size 1080x360 with 1 Axes>"
      ]
     },
     "metadata": {
      "needs_background": "light"
     },
     "output_type": "display_data"
    }
   ],
   "source": [
    "df.pivot(index=\"year_month\", columns='artistName')['msPlayed'].fillna(0).plot(kind='bar')"
   ]
  },
  {
   "cell_type": "markdown",
   "metadata": {},
   "source": [
    "**Most popular songs**"
   ]
  },
  {
   "cell_type": "code",
   "execution_count": 14,
   "metadata": {},
   "outputs": [
    {
     "data": {
      "text/plain": [
       "<AxesSubplot:>"
      ]
     },
     "execution_count": 14,
     "metadata": {},
     "output_type": "execute_result"
    },
    {
     "data": {
      "image/png": "[encoded data removed]",
      "text/plain": [
       "<Figure size 1080x360 with 1 Axes>"
      ]
     },
     "metadata": {
      "needs_background": "light"
     },
     "output_type": "display_data"
    }
   ],
   "source": [
    "top_songs = data.trackName.value_counts().sort_values(ascending=False).head(10)\n",
    "top_songs.plot(kind='bar')"
   ]
  },
  {
   "cell_type": "code",
   "execution_count": 15,
   "metadata": {},
   "outputs": [],
   "source": [
    "df = data[data.trackName.isin(top_songs.index)] \\\n",
    "        .groupby(['year_month', 'trackName']).count().msPlayed.reset_index()"
   ]
  },
  {
   "cell_type": "code",
   "execution_count": 16,
   "metadata": {},
   "outputs": [
    {
     "data": {
      "text/plain": [
       "<AxesSubplot:xlabel='year_month'>"
      ]
     },
     "execution_count": 16,
     "metadata": {},
     "output_type": "execute_result"
    },
    {
     "data": {
      "image/png": "[encoded data removed]",
      "text/plain": [
       "<Figure size 1080x360 with 1 Axes>"
      ]
     },
     "metadata": {
      "needs_background": "light"
     },
     "output_type": "display_data"
    }
   ],
   "source": [
    "df.pivot(index=\"year_month\", columns='trackName')['msPlayed'].fillna(0).plot(kind='bar')"
   ]
  },
  {
   "cell_type": "markdown",
   "metadata": {},
   "source": [
    "**Most active months**"
   ]
  },
  {
   "cell_type": "code",
   "execution_count": 17,
   "metadata": {},
   "outputs": [
    {
     "data": {
      "text/plain": [
       "<AxesSubplot:>"
      ]
     },
     "execution_count": 17,
     "metadata": {},
     "output_type": "execute_result"
    },
    {
     "data": {
      "image/png": "[encoded data removed]",
      "text/plain": [
       "<Figure size 1080x360 with 1 Axes>"
      ]
     },
     "metadata": {
      "needs_background": "light"
     },
     "output_type": "display_data"
    }
   ],
   "source": [
    "data.year_month.value_counts().sort_index(ascending=True).plot(kind='bar')"
   ]
  },
  {
   "cell_type": "markdown",
   "metadata": {},
   "source": [
    "**Habits during spring semester in Denmark**"
   ]
  },
  {
   "cell_type": "code",
   "execution_count": 18,
   "metadata": {},
   "outputs": [],
   "source": [
    "spring_semester_period = (data.year_month >= \"2020-03\") & (data.year_month <= \"2020-06\")"
   ]
  },
  {
   "cell_type": "code",
   "execution_count": 19,
   "metadata": {},
   "outputs": [
    {
     "data": {
      "text/plain": [
       "<AxesSubplot:>"
      ]
     },
     "execution_count": 19,
     "metadata": {},
     "output_type": "execute_result"
    },
    {
     "data": {
      "image/png": "[encoded data removed]",
      "text/plain": [
       "<Figure size 1080x360 with 1 Axes>"
      ]
     },
     "metadata": {
      "needs_background": "light"
     },
     "output_type": "display_data"
    }
   ],
   "source": [
    "data[spring_semester_period].trackName.value_counts()\\\n",
    "                .sort_values(ascending=False).head(10).plot(kind='bar')"
   ]
  },
  {
   "cell_type": "code",
   "execution_count": 20,
   "metadata": {},
   "outputs": [
    {
     "data": {
      "text/plain": [
       "<AxesSubplot:>"
      ]
     },
     "execution_count": 20,
     "metadata": {},
     "output_type": "execute_result"
    },
    {
     "data": {
      "image/png": "[encoded data removed]",
      "text/plain": [
       "<Figure size 1080x360 with 1 Axes>"
      ]
     },
     "metadata": {
      "needs_background": "light"
     },
     "output_type": "display_data"
    }
   ],
   "source": [
    "data[spring_semester_period].artistName.value_counts()\\\n",
    "                .sort_values(ascending=False).head(10).plot(kind='bar')"
   ]
  },
  {
   "cell_type": "markdown",
   "metadata": {},
   "source": [
    "**Habits during Sanremo**"
   ]
  },
  {
   "cell_type": "code",
   "execution_count": 21,
   "metadata": {},
   "outputs": [],
   "source": [
    "sanremo_period = (data.year_month >= \"2021-03\") & (data.year_month <= \"2021-03\")"
   ]
  },
  {
   "cell_type": "code",
   "execution_count": 22,
   "metadata": {},
   "outputs": [
    {
     "data": {
      "text/plain": [
       "<AxesSubplot:>"
      ]
     },
     "execution_count": 22,
     "metadata": {},
     "output_type": "execute_result"
    },
    {
     "data": {
      "image/png": "[encoded data removed]",
      "text/plain": [
       "<Figure size 1080x360 with 1 Axes>"
      ]
     },
     "metadata": {
      "needs_background": "light"
     },
     "output_type": "display_data"
    }
   ],
   "source": [
    "data[sanremo_period].artistName.value_counts()\\\n",
    "                .sort_values(ascending=False).head(10).plot(kind='bar')"
   ]
  },
  {
   "cell_type": "code",
   "execution_count": 23,
   "metadata": {},
   "outputs": [
    {
     "data": {
      "text/plain": [
       "<AxesSubplot:>"
      ]
     },
     "execution_count": 23,
     "metadata": {},
     "output_type": "execute_result"
    },
    {
     "data": {
      "image/png": "[encoded data removed]",
      "text/plain": [
       "<Figure size 1080x360 with 1 Axes>"
      ]
     },
     "metadata": {
      "needs_background": "light"
     },
     "output_type": "display_data"
    }
   ],
   "source": [
    "data[sanremo_period].trackName.value_counts()\\\n",
    "                .sort_values(ascending=False).head(10).plot(kind='bar')"
   ]
  },
  {
   "cell_type": "markdown",
   "metadata": {},
   "source": [
    "**Hometown Glory habits**"
   ]
  },
  {
   "cell_type": "code",
   "execution_count": 24,
   "metadata": {},
   "outputs": [
    {
     "data": {
      "text/plain": [
       "<AxesSubplot:>"
      ]
     },
     "execution_count": 24,
     "metadata": {},
     "output_type": "execute_result"
    },
    {
     "data": {
      "image/png": "[encoded data removed]",
      "text/plain": [
       "<Figure size 1080x360 with 1 Axes>"
      ]
     },
     "metadata": {
      "needs_background": "light"
     },
     "output_type": "display_data"
    }
   ],
   "source": [
    "data[data.trackName.str.contains('Hometown Glory')]\\\n",
    "            .year_month.value_counts()\\\n",
    "                .sort_index(ascending=True).head(10).plot(kind='bar')"
   ]
  },
  {
   "cell_type": "markdown",
   "metadata": {},
   "source": [
    "### First listen\n",
    "When have we listened for the first time to artists in this last year?"
   ]
  },
  {
   "cell_type": "code",
   "execution_count": 36,
   "metadata": {},
   "outputs": [
    {
     "data": {
      "text/plain": [
       "<AxesSubplot:xlabel='year_month'>"
      ]
     },
     "execution_count": 36,
     "metadata": {},
     "output_type": "execute_result"
    },
    {
     "data": {
      "image/png": "[encoded data removed]",
      "text/plain": [
       "<Figure size 1080x360 with 1 Axes>"
      ]
     },
     "metadata": {
      "needs_background": "light"
     },
     "output_type": "display_data"
    }
   ],
   "source": [
    "data.groupby(\"artistName\").min().year_month.reset_index()\\\n",
    "    .groupby(\"year_month\").count().artistName.sort_index().plot(kind=\"bar\")"
   ]
  },
  {
   "cell_type": "markdown",
   "metadata": {},
   "source": [
    "The distribution resambles the ones from the most active months. May has been the one with the most first listen, which fits with the fact that it is at the beginning of the period and a very active month. To be noticed that not all streams from April are available which may have caused many first listen to be detected in May."
   ]
  },
  {
   "cell_type": "markdown",
   "metadata": {},
   "source": [
    "### Hourly habits"
   ]
  },
  {
   "cell_type": "code",
   "execution_count": 40,
   "metadata": {},
   "outputs": [
    {
     "data": {
      "text/plain": [
       "<AxesSubplot:xlabel='hour'>"
      ]
     },
     "execution_count": 40,
     "metadata": {},
     "output_type": "execute_result"
    },
    {
     "data": {
      "image/png": "[encoded data removed]",
      "text/plain": [
       "<Figure size 1080x360 with 1 Axes>"
      ]
     },
     "metadata": {
      "needs_background": "light"
     },
     "output_type": "display_data"
    }
   ],
   "source": [
    "data.groupby(\"hour\").endTime.count().plot(kind=\"bar\")"
   ]
  },
  {
   "cell_type": "markdown",
   "metadata": {},
   "source": [
    "Clearly the most active hours are 10 and 17. 17 could be due to training (after the university day was over) and 10 am could be due to days in which I studied with music."
   ]
  },
  {
   "cell_type": "markdown",
   "metadata": {},
   "source": [
    "Do these patterns change if we look at different periods of the year?"
   ]
  },
  {
   "cell_type": "code",
   "execution_count": 96,
   "metadata": {},
   "outputs": [],
   "source": [
    "def mapDatetimeToPeriod(row):\n",
    "    if (row.month >= 4) & (row.month <= 6):\n",
    "        return 'Spring 2020'\n",
    "    if (row.month >= 7) & (row.month <= 9):\n",
    "        return 'Summer 2020'\n",
    "    if (row.month >= 10) & (row.month <= 12):\n",
    "        return 'Autumn 2020'\n",
    "    if (row.month >= 1) & (row.month <= 3):\n",
    "        return 'Winter 2021'"
   ]
  },
  {
   "cell_type": "code",
   "execution_count": 97,
   "metadata": {},
   "outputs": [],
   "source": [
    "data['season'] = data.apply(lambda row: mapDatetimeToPeriod(row),axis=1)"
   ]
  },
  {
   "cell_type": "code",
   "execution_count": 98,
   "metadata": {},
   "outputs": [],
   "source": [
    "df = None\n",
    "for season in data.season.unique():\n",
    "    new_df = data[data.season == season].groupby(\"hour\").endTime.count().to_frame(season)\n",
    "    if df is None:\n",
    "        df = new_df\n",
    "    else:\n",
    "        df = df.merge(new_df, left_index=True, right_index=True)"
   ]
  },
  {
   "cell_type": "code",
   "execution_count": 99,
   "metadata": {},
   "outputs": [
    {
     "data": {
      "text/plain": [
       "<AxesSubplot:xlabel='hour'>"
      ]
     },
     "execution_count": 99,
     "metadata": {},
     "output_type": "execute_result"
    },
    {
     "data": {
      "image/png": "[encoded data removed]",
      "text/plain": [
       "<Figure size 1080x360 with 1 Axes>"
      ]
     },
     "metadata": {
      "needs_background": "light"
     },
     "output_type": "display_data"
    }
   ],
   "source": [
    "df.plot(kind='bar')"
   ]
  },
  {
   "cell_type": "markdown",
   "metadata": {},
   "source": [
    "* It is clear that in Spring 2020, after listening to music both during studying (16) and training (17) the number of streams dropped. \n",
    "* On the other hand, this pattern cannot be observed in Autumn and Winter (during thesis) where the habits were to study up until 18 and then sometimes train afterwards. Indeed the streams dropped after 18, instead of 17 which is more aligned with danish habits.\n",
    "* Generally, music is listened more at the end of the working/studying day, regardless of the period of the year. This can be to fight the increasing tiredness and as a result of a growing sense of being close to some time off"
   ]
  },
  {
   "cell_type": "markdown",
   "metadata": {},
   "source": [
    "### Artists\n",
    "What are the most listened artists in the different parts of the day? Can we see any new patterns or we observed the same as the yearly ones?"
   ]
  },
  {
   "cell_type": "code",
   "execution_count": 103,
   "metadata": {},
   "outputs": [],
   "source": [
    "def mapDatetimeToDayPart(row):\n",
    "    if (row.hour >= 7) & (row.hour <= 13):\n",
    "        return 'Morning'\n",
    "    if (row.hour >= 13) & (row.hour <= 17):\n",
    "        return 'Afternoon'\n",
    "    if (row.hour >= 18) & (row.hour <= 21):\n",
    "        return 'Evening'\n",
    "    if (row.hour >= 22) & (row.hour <= 0):\n",
    "        return 'Night'\n",
    "    if (row.hour >= 1) & (row.hour <= 6):\n",
    "        return 'Deep Night'"
   ]
  },
  {
   "cell_type": "code",
   "execution_count": 104,
   "metadata": {},
   "outputs": [],
   "source": [
    "data['day_part'] = data.apply(lambda row: mapDatetimeToDayPart(row),axis=1)"
   ]
  },
  {
   "cell_type": "markdown",
   "metadata": {},
   "source": [
    "**Deep night**"
   ]
  },
  {
   "cell_type": "code",
   "execution_count": 112,
   "metadata": {},
   "outputs": [
    {
     "data": {
      "text/plain": [
       "artistName\n",
       "Ben Frost         12\n",
       "Subsonica          8\n",
       "Arctic Monkeys     5\n",
       "Enya               4\n",
       "Ursula Bogner      3\n",
       "Name: endTime, dtype: int64"
      ]
     },
     "execution_count": 112,
     "metadata": {},
     "output_type": "execute_result"
    }
   ],
   "source": [
    "deep_night_artist = data[data.day_part == 'Deep Night'].groupby(\"artistName\")\\\n",
    "    .endTime.count().sort_values(ascending=False).head(5)\n",
    "deep_night_artist"
   ]
  },
  {
   "cell_type": "code",
   "execution_count": 122,
   "metadata": {},
   "outputs": [
    {
     "data": {
      "text/html": [
       "<div>\n",
       "<style scoped>\n",
       "    .dataframe tbody tr th:only-of-type {\n",
       "        vertical-align: middle;\n",
       "    }\n",
       "\n",
       "    .dataframe tbody tr th {\n",
       "        vertical-align: top;\n",
       "    }\n",
       "\n",
       "    .dataframe thead th {\n",
       "        text-align: right;\n",
       "    }\n",
       "</style>\n",
       "<table border=\"1\" class=\"dataframe\">\n",
       "  <thead>\n",
       "    <tr style=\"text-align: right;\">\n",
       "      <th></th>\n",
       "      <th>endTime</th>\n",
       "      <th>artistName</th>\n",
       "      <th>trackName</th>\n",
       "      <th>msPlayed</th>\n",
       "      <th>year</th>\n",
       "      <th>year_month</th>\n",
       "      <th>hour</th>\n",
       "      <th>year_month_day</th>\n",
       "      <th>month</th>\n",
       "      <th>season</th>\n",
       "      <th>day_part</th>\n",
       "    </tr>\n",
       "  </thead>\n",
       "  <tbody>\n",
       "    <tr>\n",
       "      <th>384</th>\n",
       "      <td>2020-04-29 05:43:00</td>\n",
       "      <td>Arctic Monkeys</td>\n",
       "      <td>This House is a Circus</td>\n",
       "      <td>1566</td>\n",
       "      <td>2020</td>\n",
       "      <td>2020-04</td>\n",
       "      <td>5</td>\n",
       "      <td>2020-04-29</td>\n",
       "      <td>4</td>\n",
       "      <td>Spring 2020</td>\n",
       "      <td>Deep Night</td>\n",
       "    </tr>\n",
       "    <tr>\n",
       "      <th>2013</th>\n",
       "      <td>2020-06-17 06:48:00</td>\n",
       "      <td>Ben Frost</td>\n",
       "      <td>Alles Ist Miteinander Verbunden</td>\n",
       "      <td>117578</td>\n",
       "      <td>2020</td>\n",
       "      <td>2020-06</td>\n",
       "      <td>6</td>\n",
       "      <td>2020-06-17</td>\n",
       "      <td>6</td>\n",
       "      <td>Spring 2020</td>\n",
       "      <td>Deep Night</td>\n",
       "    </tr>\n",
       "    <tr>\n",
       "      <th>2119</th>\n",
       "      <td>2020-06-21 06:48:00</td>\n",
       "      <td>Subsonica</td>\n",
       "      <td>Disco labirinto - feat. Cosmo</td>\n",
       "      <td>291896</td>\n",
       "      <td>2020</td>\n",
       "      <td>2020-06</td>\n",
       "      <td>6</td>\n",
       "      <td>2020-06-21</td>\n",
       "      <td>6</td>\n",
       "      <td>Spring 2020</td>\n",
       "      <td>Deep Night</td>\n",
       "    </tr>\n",
       "    <tr>\n",
       "      <th>2120</th>\n",
       "      <td>2020-06-21 06:51:00</td>\n",
       "      <td>Arctic Monkeys</td>\n",
       "      <td>Brianstorm</td>\n",
       "      <td>172866</td>\n",
       "      <td>2020</td>\n",
       "      <td>2020-06</td>\n",
       "      <td>6</td>\n",
       "      <td>2020-06-21</td>\n",
       "      <td>6</td>\n",
       "      <td>Spring 2020</td>\n",
       "      <td>Deep Night</td>\n",
       "    </tr>\n",
       "    <tr>\n",
       "      <th>2121</th>\n",
       "      <td>2020-06-21 06:53:00</td>\n",
       "      <td>Arctic Monkeys</td>\n",
       "      <td>Teddy Picker</td>\n",
       "      <td>165000</td>\n",
       "      <td>2020</td>\n",
       "      <td>2020-06</td>\n",
       "      <td>6</td>\n",
       "      <td>2020-06-21</td>\n",
       "      <td>6</td>\n",
       "      <td>Spring 2020</td>\n",
       "      <td>Deep Night</td>\n",
       "    </tr>\n",
       "    <tr>\n",
       "      <th>2122</th>\n",
       "      <td>2020-06-21 06:56:00</td>\n",
       "      <td>Arctic Monkeys</td>\n",
       "      <td>D is for Dangerous</td>\n",
       "      <td>138106</td>\n",
       "      <td>2020</td>\n",
       "      <td>2020-06</td>\n",
       "      <td>6</td>\n",
       "      <td>2020-06-21</td>\n",
       "      <td>6</td>\n",
       "      <td>Spring 2020</td>\n",
       "      <td>Deep Night</td>\n",
       "    </tr>\n",
       "    <tr>\n",
       "      <th>2123</th>\n",
       "      <td>2020-06-21 06:58:00</td>\n",
       "      <td>Arctic Monkeys</td>\n",
       "      <td>Balaclava</td>\n",
       "      <td>166958</td>\n",
       "      <td>2020</td>\n",
       "      <td>2020-06</td>\n",
       "      <td>6</td>\n",
       "      <td>2020-06-21</td>\n",
       "      <td>6</td>\n",
       "      <td>Spring 2020</td>\n",
       "      <td>Deep Night</td>\n",
       "    </tr>\n",
       "    <tr>\n",
       "      <th>2655</th>\n",
       "      <td>2020-07-28 06:34:00</td>\n",
       "      <td>Ben Frost</td>\n",
       "      <td>Die Reisenden 1</td>\n",
       "      <td>469686</td>\n",
       "      <td>2020</td>\n",
       "      <td>2020-07</td>\n",
       "      <td>6</td>\n",
       "      <td>2020-07-28</td>\n",
       "      <td>7</td>\n",
       "      <td>Summer 2020</td>\n",
       "      <td>Deep Night</td>\n",
       "    </tr>\n",
       "    <tr>\n",
       "      <th>2656</th>\n",
       "      <td>2020-07-28 06:35:00</td>\n",
       "      <td>Ben Frost</td>\n",
       "      <td>Die Reisenden 2</td>\n",
       "      <td>40</td>\n",
       "      <td>2020</td>\n",
       "      <td>2020-07</td>\n",
       "      <td>6</td>\n",
       "      <td>2020-07-28</td>\n",
       "      <td>7</td>\n",
       "      <td>Summer 2020</td>\n",
       "      <td>Deep Night</td>\n",
       "    </tr>\n",
       "    <tr>\n",
       "      <th>2657</th>\n",
       "      <td>2020-07-28 06:35:00</td>\n",
       "      <td>Ben Frost</td>\n",
       "      <td>Die Reisenden 2</td>\n",
       "      <td>11</td>\n",
       "      <td>2020</td>\n",
       "      <td>2020-07</td>\n",
       "      <td>6</td>\n",
       "      <td>2020-07-28</td>\n",
       "      <td>7</td>\n",
       "      <td>Summer 2020</td>\n",
       "      <td>Deep Night</td>\n",
       "    </tr>\n",
       "    <tr>\n",
       "      <th>2659</th>\n",
       "      <td>2020-07-28 06:35:00</td>\n",
       "      <td>Ben Frost</td>\n",
       "      <td>Die Reisenden 1</td>\n",
       "      <td>7311</td>\n",
       "      <td>2020</td>\n",
       "      <td>2020-07</td>\n",
       "      <td>6</td>\n",
       "      <td>2020-07-28</td>\n",
       "      <td>7</td>\n",
       "      <td>Summer 2020</td>\n",
       "      <td>Deep Night</td>\n",
       "    </tr>\n",
       "    <tr>\n",
       "      <th>2660</th>\n",
       "      <td>2020-07-28 06:38:00</td>\n",
       "      <td>Ben Frost</td>\n",
       "      <td>Die Reisenden 2</td>\n",
       "      <td>165435</td>\n",
       "      <td>2020</td>\n",
       "      <td>2020-07</td>\n",
       "      <td>6</td>\n",
       "      <td>2020-07-28</td>\n",
       "      <td>7</td>\n",
       "      <td>Summer 2020</td>\n",
       "      <td>Deep Night</td>\n",
       "    </tr>\n",
       "    <tr>\n",
       "      <th>2661</th>\n",
       "      <td>2020-07-28 06:39:00</td>\n",
       "      <td>Ben Frost</td>\n",
       "      <td>Die Reisenden 2</td>\n",
       "      <td>65203</td>\n",
       "      <td>2020</td>\n",
       "      <td>2020-07</td>\n",
       "      <td>6</td>\n",
       "      <td>2020-07-28</td>\n",
       "      <td>7</td>\n",
       "      <td>Summer 2020</td>\n",
       "      <td>Deep Night</td>\n",
       "    </tr>\n",
       "    <tr>\n",
       "      <th>2663</th>\n",
       "      <td>2020-07-29 06:53:00</td>\n",
       "      <td>Ben Frost</td>\n",
       "      <td>Die Reisenden 1</td>\n",
       "      <td>245333</td>\n",
       "      <td>2020</td>\n",
       "      <td>2020-07</td>\n",
       "      <td>6</td>\n",
       "      <td>2020-07-29</td>\n",
       "      <td>7</td>\n",
       "      <td>Summer 2020</td>\n",
       "      <td>Deep Night</td>\n",
       "    </tr>\n",
       "    <tr>\n",
       "      <th>2664</th>\n",
       "      <td>2020-07-29 06:56:00</td>\n",
       "      <td>Ben Frost</td>\n",
       "      <td>Die Reisenden 1</td>\n",
       "      <td>191249</td>\n",
       "      <td>2020</td>\n",
       "      <td>2020-07</td>\n",
       "      <td>6</td>\n",
       "      <td>2020-07-29</td>\n",
       "      <td>7</td>\n",
       "      <td>Summer 2020</td>\n",
       "      <td>Deep Night</td>\n",
       "    </tr>\n",
       "    <tr>\n",
       "      <th>2665</th>\n",
       "      <td>2020-07-29 06:57:00</td>\n",
       "      <td>Ursula Bogner</td>\n",
       "      <td>Modes</td>\n",
       "      <td>27568</td>\n",
       "      <td>2020</td>\n",
       "      <td>2020-07</td>\n",
       "      <td>6</td>\n",
       "      <td>2020-07-29</td>\n",
       "      <td>7</td>\n",
       "      <td>Summer 2020</td>\n",
       "      <td>Deep Night</td>\n",
       "    </tr>\n",
       "    <tr>\n",
       "      <th>2752</th>\n",
       "      <td>2020-07-31 06:34:00</td>\n",
       "      <td>Ursula Bogner</td>\n",
       "      <td>Modes</td>\n",
       "      <td>38221</td>\n",
       "      <td>2020</td>\n",
       "      <td>2020-07</td>\n",
       "      <td>6</td>\n",
       "      <td>2020-07-31</td>\n",
       "      <td>7</td>\n",
       "      <td>Summer 2020</td>\n",
       "      <td>Deep Night</td>\n",
       "    </tr>\n",
       "    <tr>\n",
       "      <th>2753</th>\n",
       "      <td>2020-07-31 06:34:00</td>\n",
       "      <td>Ben Frost</td>\n",
       "      <td>Die Reisenden 1</td>\n",
       "      <td>319484</td>\n",
       "      <td>2020</td>\n",
       "      <td>2020-07</td>\n",
       "      <td>6</td>\n",
       "      <td>2020-07-31</td>\n",
       "      <td>7</td>\n",
       "      <td>Summer 2020</td>\n",
       "      <td>Deep Night</td>\n",
       "    </tr>\n",
       "    <tr>\n",
       "      <th>2755</th>\n",
       "      <td>2020-07-31 06:37:00</td>\n",
       "      <td>Ben Frost</td>\n",
       "      <td>Die Reisenden 1</td>\n",
       "      <td>176023</td>\n",
       "      <td>2020</td>\n",
       "      <td>2020-07</td>\n",
       "      <td>6</td>\n",
       "      <td>2020-07-31</td>\n",
       "      <td>7</td>\n",
       "      <td>Summer 2020</td>\n",
       "      <td>Deep Night</td>\n",
       "    </tr>\n",
       "    <tr>\n",
       "      <th>2756</th>\n",
       "      <td>2020-07-31 06:45:00</td>\n",
       "      <td>Ben Frost</td>\n",
       "      <td>Die Reisenden 1</td>\n",
       "      <td>466388</td>\n",
       "      <td>2020</td>\n",
       "      <td>2020-07</td>\n",
       "      <td>6</td>\n",
       "      <td>2020-07-31</td>\n",
       "      <td>7</td>\n",
       "      <td>Summer 2020</td>\n",
       "      <td>Deep Night</td>\n",
       "    </tr>\n",
       "    <tr>\n",
       "      <th>2757</th>\n",
       "      <td>2020-07-31 06:46:00</td>\n",
       "      <td>Ursula Bogner</td>\n",
       "      <td>Modes</td>\n",
       "      <td>20294</td>\n",
       "      <td>2020</td>\n",
       "      <td>2020-07</td>\n",
       "      <td>6</td>\n",
       "      <td>2020-07-31</td>\n",
       "      <td>7</td>\n",
       "      <td>Summer 2020</td>\n",
       "      <td>Deep Night</td>\n",
       "    </tr>\n",
       "    <tr>\n",
       "      <th>2861</th>\n",
       "      <td>2020-08-22 06:51:00</td>\n",
       "      <td>Enya</td>\n",
       "      <td>Only Time</td>\n",
       "      <td>218546</td>\n",
       "      <td>2020</td>\n",
       "      <td>2020-08</td>\n",
       "      <td>6</td>\n",
       "      <td>2020-08-22</td>\n",
       "      <td>8</td>\n",
       "      <td>Summer 2020</td>\n",
       "      <td>Deep Night</td>\n",
       "    </tr>\n",
       "    <tr>\n",
       "      <th>2862</th>\n",
       "      <td>2020-08-22 06:55:00</td>\n",
       "      <td>Enya</td>\n",
       "      <td>May It Be</td>\n",
       "      <td>257760</td>\n",
       "      <td>2020</td>\n",
       "      <td>2020-08</td>\n",
       "      <td>6</td>\n",
       "      <td>2020-08-22</td>\n",
       "      <td>8</td>\n",
       "      <td>Summer 2020</td>\n",
       "      <td>Deep Night</td>\n",
       "    </tr>\n",
       "    <tr>\n",
       "      <th>2863</th>\n",
       "      <td>2020-08-22 06:57:00</td>\n",
       "      <td>Enya</td>\n",
       "      <td>Orinoco Flow - 2009 Remaster</td>\n",
       "      <td>98367</td>\n",
       "      <td>2020</td>\n",
       "      <td>2020-08</td>\n",
       "      <td>6</td>\n",
       "      <td>2020-08-22</td>\n",
       "      <td>8</td>\n",
       "      <td>Summer 2020</td>\n",
       "      <td>Deep Night</td>\n",
       "    </tr>\n",
       "    <tr>\n",
       "      <th>2864</th>\n",
       "      <td>2020-08-22 06:58:00</td>\n",
       "      <td>Enya</td>\n",
       "      <td>Only Time</td>\n",
       "      <td>49700</td>\n",
       "      <td>2020</td>\n",
       "      <td>2020-08</td>\n",
       "      <td>6</td>\n",
       "      <td>2020-08-22</td>\n",
       "      <td>8</td>\n",
       "      <td>Summer 2020</td>\n",
       "      <td>Deep Night</td>\n",
       "    </tr>\n",
       "    <tr>\n",
       "      <th>4749</th>\n",
       "      <td>2021-01-29 01:01:00</td>\n",
       "      <td>Subsonica</td>\n",
       "      <td>U.F.O. - Original Subsonica remix</td>\n",
       "      <td>38569</td>\n",
       "      <td>2021</td>\n",
       "      <td>2021-01</td>\n",
       "      <td>1</td>\n",
       "      <td>2021-01-29</td>\n",
       "      <td>1</td>\n",
       "      <td>Winter 2021</td>\n",
       "      <td>Deep Night</td>\n",
       "    </tr>\n",
       "    <tr>\n",
       "      <th>4750</th>\n",
       "      <td>2021-01-29 01:01:00</td>\n",
       "      <td>Subsonica</td>\n",
       "      <td>Blu</td>\n",
       "      <td>1707</td>\n",
       "      <td>2021</td>\n",
       "      <td>2021-01</td>\n",
       "      <td>1</td>\n",
       "      <td>2021-01-29</td>\n",
       "      <td>1</td>\n",
       "      <td>Winter 2021</td>\n",
       "      <td>Deep Night</td>\n",
       "    </tr>\n",
       "    <tr>\n",
       "      <th>4751</th>\n",
       "      <td>2021-01-29 01:01:00</td>\n",
       "      <td>Subsonica</td>\n",
       "      <td>Nuvole Liquide</td>\n",
       "      <td>2872</td>\n",
       "      <td>2021</td>\n",
       "      <td>2021-01</td>\n",
       "      <td>1</td>\n",
       "      <td>2021-01-29</td>\n",
       "      <td>1</td>\n",
       "      <td>Winter 2021</td>\n",
       "      <td>Deep Night</td>\n",
       "    </tr>\n",
       "    <tr>\n",
       "      <th>4752</th>\n",
       "      <td>2021-01-29 01:01:00</td>\n",
       "      <td>Subsonica</td>\n",
       "      <td>Fiumi Urbani</td>\n",
       "      <td>1605</td>\n",
       "      <td>2021</td>\n",
       "      <td>2021-01</td>\n",
       "      <td>1</td>\n",
       "      <td>2021-01-29</td>\n",
       "      <td>1</td>\n",
       "      <td>Winter 2021</td>\n",
       "      <td>Deep Night</td>\n",
       "    </tr>\n",
       "    <tr>\n",
       "      <th>4753</th>\n",
       "      <td>2021-01-29 01:01:00</td>\n",
       "      <td>Subsonica</td>\n",
       "      <td>Coriandoli A Natale</td>\n",
       "      <td>225840</td>\n",
       "      <td>2021</td>\n",
       "      <td>2021-01</td>\n",
       "      <td>1</td>\n",
       "      <td>2021-01-29</td>\n",
       "      <td>1</td>\n",
       "      <td>Winter 2021</td>\n",
       "      <td>Deep Night</td>\n",
       "    </tr>\n",
       "    <tr>\n",
       "      <th>4754</th>\n",
       "      <td>2021-01-29 01:06:00</td>\n",
       "      <td>Subsonica</td>\n",
       "      <td>Aurora Sogna - Live</td>\n",
       "      <td>260626</td>\n",
       "      <td>2021</td>\n",
       "      <td>2021-01</td>\n",
       "      <td>1</td>\n",
       "      <td>2021-01-29</td>\n",
       "      <td>1</td>\n",
       "      <td>Winter 2021</td>\n",
       "      <td>Deep Night</td>\n",
       "    </tr>\n",
       "    <tr>\n",
       "      <th>4755</th>\n",
       "      <td>2021-01-29 01:08:00</td>\n",
       "      <td>Subsonica</td>\n",
       "      <td>Giungla Nord - Live</td>\n",
       "      <td>135629</td>\n",
       "      <td>2021</td>\n",
       "      <td>2021-01</td>\n",
       "      <td>1</td>\n",
       "      <td>2021-01-29</td>\n",
       "      <td>1</td>\n",
       "      <td>Winter 2021</td>\n",
       "      <td>Deep Night</td>\n",
       "    </tr>\n",
       "  </tbody>\n",
       "</table>\n",
       "</div>"
      ],
      "text/plain": [
       "                 endTime      artistName                          trackName  \\\n",
       "384  2020-04-29 05:43:00  Arctic Monkeys             This House is a Circus   \n",
       "2013 2020-06-17 06:48:00       Ben Frost    Alles Ist Miteinander Verbunden   \n",
       "2119 2020-06-21 06:48:00       Subsonica      Disco labirinto - feat. Cosmo   \n",
       "2120 2020-06-21 06:51:00  Arctic Monkeys                         Brianstorm   \n",
       "2121 2020-06-21 06:53:00  Arctic Monkeys                       Teddy Picker   \n",
       "2122 2020-06-21 06:56:00  Arctic Monkeys                 D is for Dangerous   \n",
       "2123 2020-06-21 06:58:00  Arctic Monkeys                          Balaclava   \n",
       "2655 2020-07-28 06:34:00       Ben Frost                    Die Reisenden 1   \n",
       "2656 2020-07-28 06:35:00       Ben Frost                    Die Reisenden 2   \n",
       "2657 2020-07-28 06:35:00       Ben Frost                    Die Reisenden 2   \n",
       "2659 2020-07-28 06:35:00       Ben Frost                    Die Reisenden 1   \n",
       "2660 2020-07-28 06:38:00       Ben Frost                    Die Reisenden 2   \n",
       "2661 2020-07-28 06:39:00       Ben Frost                    Die Reisenden 2   \n",
       "2663 2020-07-29 06:53:00       Ben Frost                    Die Reisenden 1   \n",
       "2664 2020-07-29 06:56:00       Ben Frost                    Die Reisenden 1   \n",
       "2665 2020-07-29 06:57:00   Ursula Bogner                              Modes   \n",
       "2752 2020-07-31 06:34:00   Ursula Bogner                              Modes   \n",
       "2753 2020-07-31 06:34:00       Ben Frost                    Die Reisenden 1   \n",
       "2755 2020-07-31 06:37:00       Ben Frost                    Die Reisenden 1   \n",
       "2756 2020-07-31 06:45:00       Ben Frost                    Die Reisenden 1   \n",
       "2757 2020-07-31 06:46:00   Ursula Bogner                              Modes   \n",
       "2861 2020-08-22 06:51:00            Enya                          Only Time   \n",
       "2862 2020-08-22 06:55:00            Enya                          May It Be   \n",
       "2863 2020-08-22 06:57:00            Enya       Orinoco Flow - 2009 Remaster   \n",
       "2864 2020-08-22 06:58:00            Enya                          Only Time   \n",
       "4749 2021-01-29 01:01:00       Subsonica  U.F.O. - Original Subsonica remix   \n",
       "4750 2021-01-29 01:01:00       Subsonica                                Blu   \n",
       "4751 2021-01-29 01:01:00       Subsonica                     Nuvole Liquide   \n",
       "4752 2021-01-29 01:01:00       Subsonica                       Fiumi Urbani   \n",
       "4753 2021-01-29 01:01:00       Subsonica                Coriandoli A Natale   \n",
       "4754 2021-01-29 01:06:00       Subsonica                Aurora Sogna - Live   \n",
       "4755 2021-01-29 01:08:00       Subsonica                Giungla Nord - Live   \n",
       "\n",
       "      msPlayed  year year_month  hour year_month_day  month       season  \\\n",
       "384       1566  2020    2020-04     5     2020-04-29      4  Spring 2020   \n",
       "2013    117578  2020    2020-06     6     2020-06-17      6  Spring 2020   \n",
       "2119    291896  2020    2020-06     6     2020-06-21      6  Spring 2020   \n",
       "2120    172866  2020    2020-06     6     2020-06-21      6  Spring 2020   \n",
       "2121    165000  2020    2020-06     6     2020-06-21      6  Spring 2020   \n",
       "2122    138106  2020    2020-06     6     2020-06-21      6  Spring 2020   \n",
       "2123    166958  2020    2020-06     6     2020-06-21      6  Spring 2020   \n",
       "2655    469686  2020    2020-07     6     2020-07-28      7  Summer 2020   \n",
       "2656        40  2020    2020-07     6     2020-07-28      7  Summer 2020   \n",
       "2657        11  2020    2020-07     6     2020-07-28      7  Summer 2020   \n",
       "2659      7311  2020    2020-07     6     2020-07-28      7  Summer 2020   \n",
       "2660    165435  2020    2020-07     6     2020-07-28      7  Summer 2020   \n",
       "2661     65203  2020    2020-07     6     2020-07-28      7  Summer 2020   \n",
       "2663    245333  2020    2020-07     6     2020-07-29      7  Summer 2020   \n",
       "2664    191249  2020    2020-07     6     2020-07-29      7  Summer 2020   \n",
       "2665     27568  2020    2020-07     6     2020-07-29      7  Summer 2020   \n",
       "2752     38221  2020    2020-07     6     2020-07-31      7  Summer 2020   \n",
       "2753    319484  2020    2020-07     6     2020-07-31      7  Summer 2020   \n",
       "2755    176023  2020    2020-07     6     2020-07-31      7  Summer 2020   \n",
       "2756    466388  2020    2020-07     6     2020-07-31      7  Summer 2020   \n",
       "2757     20294  2020    2020-07     6     2020-07-31      7  Summer 2020   \n",
       "2861    218546  2020    2020-08     6     2020-08-22      8  Summer 2020   \n",
       "2862    257760  2020    2020-08     6     2020-08-22      8  Summer 2020   \n",
       "2863     98367  2020    2020-08     6     2020-08-22      8  Summer 2020   \n",
       "2864     49700  2020    2020-08     6     2020-08-22      8  Summer 2020   \n",
       "4749     38569  2021    2021-01     1     2021-01-29      1  Winter 2021   \n",
       "4750      1707  2021    2021-01     1     2021-01-29      1  Winter 2021   \n",
       "4751      2872  2021    2021-01     1     2021-01-29      1  Winter 2021   \n",
       "4752      1605  2021    2021-01     1     2021-01-29      1  Winter 2021   \n",
       "4753    225840  2021    2021-01     1     2021-01-29      1  Winter 2021   \n",
       "4754    260626  2021    2021-01     1     2021-01-29      1  Winter 2021   \n",
       "4755    135629  2021    2021-01     1     2021-01-29      1  Winter 2021   \n",
       "\n",
       "        day_part  \n",
       "384   Deep Night  \n",
       "2013  Deep Night  \n",
       "2119  Deep Night  \n",
       "2120  Deep Night  \n",
       "2121  Deep Night  \n",
       "2122  Deep Night  \n",
       "2123  Deep Night  \n",
       "2655  Deep Night  \n",
       "2656  Deep Night  \n",
       "2657  Deep Night  \n",
       "2659  Deep Night  \n",
       "2660  Deep Night  \n",
       "2661  Deep Night  \n",
       "2663  Deep Night  \n",
       "2664  Deep Night  \n",
       "2665  Deep Night  \n",
       "2752  Deep Night  \n",
       "2753  Deep Night  \n",
       "2755  Deep Night  \n",
       "2756  Deep Night  \n",
       "2757  Deep Night  \n",
       "2861  Deep Night  \n",
       "2862  Deep Night  \n",
       "2863  Deep Night  \n",
       "2864  Deep Night  \n",
       "4749  Deep Night  \n",
       "4750  Deep Night  \n",
       "4751  Deep Night  \n",
       "4752  Deep Night  \n",
       "4753  Deep Night  \n",
       "4754  Deep Night  \n",
       "4755  Deep Night  "
      ]
     },
     "execution_count": 122,
     "metadata": {},
     "output_type": "execute_result"
    }
   ],
   "source": [
    "top_artist_deep_night = deep_night_artist.index.tolist()\n",
    "data[(data.day_part == 'Deep Night') & (data.artistName.isin(top_artist_deep_night))]"
   ]
  },
  {
   "cell_type": "markdown",
   "metadata": {},
   "source": [
    "* Most of the streams happend right before 7 o'clock (which would belong to the morning part of the day). \n",
    "* However, interesting to notice that early streams were on days in which we traveled (on 21th of June I flew back to Italy and on 22nd of August we went to San Pellegrino). \n",
    "* The streams in July were on days were Anna was home alone (I was at sea with my grandpa) and she could not sleep. * The only true late streams were on the night after my graduation where I could not sleep."
   ]
  },
  {
   "cell_type": "markdown",
   "metadata": {},
   "source": [
    "**Evening**"
   ]
  },
  {
   "cell_type": "code",
   "execution_count": 124,
   "metadata": {},
   "outputs": [
    {
     "data": {
      "text/plain": [
       "artistName\n",
       "Avenged Sevenfold    82\n",
       "Arctic Monkeys       57\n",
       "Fulminacci           34\n",
       "JP Cooper            29\n",
       "Lo Stato Sociale     27\n",
       "Name: endTime, dtype: int64"
      ]
     },
     "execution_count": 124,
     "metadata": {},
     "output_type": "execute_result"
    }
   ],
   "source": [
    "evening_artist = data[data.day_part == 'Evening'].groupby(\"artistName\")\\\n",
    "    .endTime.count().sort_values(ascending=False).head(5)\n",
    "evening_artist"
   ]
  },
  {
   "cell_type": "markdown",
   "metadata": {},
   "source": [
    "**Afternoon**"
   ]
  },
  {
   "cell_type": "code",
   "execution_count": 126,
   "metadata": {},
   "outputs": [
    {
     "data": {
      "text/plain": [
       "artistName\n",
       "Arctic Monkeys    355\n",
       "Fulminacci        135\n",
       "Hans Zimmer        90\n",
       "Sticky Fingers     79\n",
       "Birdy              67\n",
       "Name: endTime, dtype: int64"
      ]
     },
     "execution_count": 126,
     "metadata": {},
     "output_type": "execute_result"
    }
   ],
   "source": [
    "afternoon_artist = data[data.day_part == 'Afternoon'].groupby(\"artistName\")\\\n",
    "    .endTime.count().sort_values(ascending=False).head(5)\n",
    "afternoon_artist"
   ]
  },
  {
   "cell_type": "markdown",
   "metadata": {},
   "source": [
    "* Arctic Monekys have been my training soundtrack for more than a month, and I used to train in the afternoon, which would explain their popularity in this part\n",
    "* Same goes for Sticky Fingers\n",
    "* Birdy and Fulminacci were study/work soundtrack in Winter 2021"
   ]
  },
  {
   "cell_type": "markdown",
   "metadata": {},
   "source": [
    "**Morning**"
   ]
  },
  {
   "cell_type": "code",
   "execution_count": 127,
   "metadata": {},
   "outputs": [
    {
     "data": {
      "text/plain": [
       "artistName\n",
       "Arctic Monkeys    166\n",
       "Fulminacci        130\n",
       "Sticky Fingers    102\n",
       "Ghemon             81\n",
       "Birdy              79\n",
       "Name: endTime, dtype: int64"
      ]
     },
     "execution_count": 127,
     "metadata": {},
     "output_type": "execute_result"
    }
   ],
   "source": [
    "morning_artist = data[data.day_part == 'Morning'].groupby(\"artistName\")\\\n",
    "    .endTime.count().sort_values(ascending=False).head(5)\n",
    "morning_artist"
   ]
  },
  {
   "cell_type": "code",
   "execution_count": null,
   "metadata": {},
   "outputs": [],
   "source": []
  }
 ],
 "metadata": {
  "kernelspec": {
   "display_name": "Python 3",
   "language": "python",
   "name": "python3"
  },
  "language_info": {
   "codemirror_mode": {
    "name": "ipython",
    "version": 3
   },
   "file_extension": ".py",
   "mimetype": "text/x-python",
   "name": "python",
   "nbconvert_exporter": "python",
   "pygments_lexer": "ipython3",
   "version": "3.8.2"
  }
 },
 "nbformat": 4,
 "nbformat_minor": 4
}
